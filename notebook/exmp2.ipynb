{
 "cells": [
  {
   "cell_type": "code",
   "execution_count": 7,
   "metadata": {},
   "outputs": [],
   "source": [
    "import os\n",
    "import pandas as pd\n",
    "import numpy as np\n",
    "import matplotlib.pyplot as plt"
   ]
  },
  {
   "cell_type": "code",
   "execution_count": 8,
   "metadata": {},
   "outputs": [],
   "source": [
    "csv_file_path=(r\"E:\\python\\project\\project_ml\\insurance\\artifact\\data_ingestion\\2022-07-27_19-24-34\\raw_data\\insurance.csv\")\n",
    "insurance_df=pd.read_csv(csv_file_path)"
   ]
  },
  {
   "cell_type": "code",
   "execution_count": 9,
   "metadata": {},
   "outputs": [
    {
     "data": {
      "text/plain": [
       "<AxesSubplot:ylabel='Frequency'>"
      ]
     },
     "execution_count": 9,
     "metadata": {},
     "output_type": "execute_result"
    },
    {
     "data": {
      "image/png": "[encoded data removed]",
      "text/plain": [
       "<Figure size 432x288 with 1 Axes>"
      ]
     },
     "metadata": {
      "needs_background": "light"
     },
     "output_type": "display_data"
    }
   ],
   "source": [
    "insurance_df[[\"bmi\"]].plot(kind=\"hist\")"
   ]
  },
  {
   "cell_type": "code",
   "execution_count": 10,
   "metadata": {},
   "outputs": [],
   "source": [
    "insurance_df[\"bmi_cat\"]=pd.cut(\n",
    "    insurance_df[\"bmi\"],\n",
    "    bins=[0.0,20.0,30.0,40.0,50.0, np.Inf],\n",
    "    labels=[1,2,3,4,5]\n",
    ")"
   ]
  },
  {
   "cell_type": "code",
   "execution_count": 11,
   "metadata": {},
   "outputs": [
    {
     "data": {
      "text/plain": [
       "3    607\n",
       "2    597\n",
       "4     88\n",
       "1     43\n",
       "5      3\n",
       "Name: bmi_cat, dtype: int64"
      ]
     },
     "execution_count": 11,
     "metadata": {},
     "output_type": "execute_result"
    }
   ],
   "source": [
    "insurance_df.bmi_cat.value_counts()"
   ]
  },
  {
   "cell_type": "code",
   "execution_count": 12,
   "metadata": {},
   "outputs": [
    {
     "data": {
      "image/png": "[encoded data removed]",
      "text/plain": [
       "<Figure size 432x288 with 1 Axes>"
      ]
     },
     "metadata": {},
     "output_type": "display_data"
    }
   ],
   "source": [
    "plt.pie(insurance_df.bmi_cat.value_counts(),\n",
    "        labels=insurance_df.bmi_cat.value_counts().index)\n",
    "plt.show()"
   ]
  },
  {
   "cell_type": "code",
   "execution_count": 13,
   "metadata": {},
   "outputs": [
    {
     "data": {
      "text/plain": [
       "'e:\\\\python\\\\project\\\\project_ml\\\\notebook'"
      ]
     },
     "execution_count": 13,
     "metadata": {},
     "output_type": "execute_result"
    }
   ],
   "source": [
    "os.getcwd()"
   ]
  },
  {
   "cell_type": "code",
   "execution_count": 4,
   "metadata": {},
   "outputs": [],
   "source": [
    "from sklearn.model_selection import StratifiedShuffleSplit"
   ]
  },
  {
   "cell_type": "code",
   "execution_count": 5,
   "metadata": {},
   "outputs": [],
   "source": [
    "split=StratifiedShuffleSplit(n_splits=1,test_size=0.2,random_state=42)"
   ]
  },
  {
   "cell_type": "code",
   "execution_count": 14,
   "metadata": {},
   "outputs": [
    {
     "name": "stdout",
     "output_type": "stream",
     "text": [
      "[ 776 1040  270 ... 1286  149  725] [  88  251  948  441 1279  923  538  208  521   13  413  171   46  882\n",
      "  207  291  486  385   63  497  926 1157 1236 1265 1064  479  544  937\n",
      " 1332  742  528  602  198  879  447   56  943 1210  836  514 1092  315\n",
      "  811  583  598  116 1205  747 1186  783   27 1106 1120  508  849  136\n",
      "  547  203  279  252  256  545 1189  277  613  781 1142  562 1119 1155\n",
      " 1059  202  512  953  666 1077  448  294    7  821 1045 1224  816  983\n",
      "  626 1139 1321  462  233 1162  364  249  866  511  804 1038 1178  774\n",
      "  453  536  884  485  340  107 1191 1113 1103  843  412 1291  889  183\n",
      "  815   72  382  899  751  548  361  331  988 1165 1147 1267 1255 1037\n",
      " 1046  956   81 1172  304  439  978  722  526  910  592  730 1098 1048\n",
      "  812  493  891  117  674  980  266 1125 1141 1088  540  165 1035  797\n",
      " 1225  966  105   26 1065   74 1272 1019  349 1211  296 1110    3 1212\n",
      "  257 1283 1025  793  476  635  684 1238  531  145  814  682  942  902\n",
      " 1128  958  516  222  553 1160  166 1207  329 1281  429  675  844  683\n",
      " 1124  631  129  174  505  323   70  860   31  137   22  288  909  929\n",
      "  807  100 1004  312  221  262   20  640  461  746  704 1175  345  917\n",
      "  436  267  630  705  864  352 1270 1263 1275  393 1329 1285 1011  158\n",
      "  639  148  817  189  314  653  134 1337  442  419  928 1198 1171   66\n",
      " 1223  847  179 1318    1  215  696  109  199  480 1018  775  367  216\n",
      "  571  523]\n"
     ]
    }
   ],
   "source": [
    "for train_ix, test_ix in split.split(insurance_df,insurance_df[\"bmi_cat\"]):\n",
    "    print(train_ix, test_ix)"
   ]
  },
  {
   "cell_type": "code",
   "execution_count": 23,
   "metadata": {},
   "outputs": [
    {
     "data": {
      "text/plain": [
       "(1070, 8)"
      ]
     },
     "execution_count": 23,
     "metadata": {},
     "output_type": "execute_result"
    }
   ],
   "source": [
    "train_df=insurance_df.iloc[train_ix]\n",
    "train_df.shape\n"
   ]
  },
  {
   "cell_type": "code",
   "execution_count": 22,
   "metadata": {},
   "outputs": [
    {
     "data": {
      "text/html": [
       "<div>\n",
       "<style scoped>\n",
       "    .dataframe tbody tr th:only-of-type {\n",
       "        vertical-align: middle;\n",
       "    }\n",
       "\n",
       "    .dataframe tbody tr th {\n",
       "        vertical-align: top;\n",
       "    }\n",
       "\n",
       "    .dataframe thead th {\n",
       "        text-align: right;\n",
       "    }\n",
       "</style>\n",
       "<table border=\"1\" class=\"dataframe\">\n",
       "  <thead>\n",
       "    <tr style=\"text-align: right;\">\n",
       "      <th></th>\n",
       "      <th>age</th>\n",
       "      <th>sex</th>\n",
       "      <th>bmi</th>\n",
       "      <th>children</th>\n",
       "      <th>smoker</th>\n",
       "      <th>region</th>\n",
       "      <th>expenses</th>\n",
       "      <th>bmi_cat</th>\n",
       "    </tr>\n",
       "  </thead>\n",
       "  <tbody>\n",
       "    <tr>\n",
       "      <th>776</th>\n",
       "      <td>40</td>\n",
       "      <td>male</td>\n",
       "      <td>32.3</td>\n",
       "      <td>2</td>\n",
       "      <td>no</td>\n",
       "      <td>northwest</td>\n",
       "      <td>6986.70</td>\n",
       "      <td>3</td>\n",
       "    </tr>\n",
       "    <tr>\n",
       "      <th>1040</th>\n",
       "      <td>35</td>\n",
       "      <td>female</td>\n",
       "      <td>28.0</td>\n",
       "      <td>0</td>\n",
       "      <td>yes</td>\n",
       "      <td>northwest</td>\n",
       "      <td>20234.85</td>\n",
       "      <td>2</td>\n",
       "    </tr>\n",
       "    <tr>\n",
       "      <th>270</th>\n",
       "      <td>18</td>\n",
       "      <td>male</td>\n",
       "      <td>29.4</td>\n",
       "      <td>1</td>\n",
       "      <td>no</td>\n",
       "      <td>southeast</td>\n",
       "      <td>1719.44</td>\n",
       "      <td>2</td>\n",
       "    </tr>\n",
       "    <tr>\n",
       "      <th>992</th>\n",
       "      <td>50</td>\n",
       "      <td>female</td>\n",
       "      <td>31.6</td>\n",
       "      <td>2</td>\n",
       "      <td>no</td>\n",
       "      <td>southwest</td>\n",
       "      <td>10118.42</td>\n",
       "      <td>3</td>\n",
       "    </tr>\n",
       "    <tr>\n",
       "      <th>431</th>\n",
       "      <td>29</td>\n",
       "      <td>female</td>\n",
       "      <td>20.2</td>\n",
       "      <td>2</td>\n",
       "      <td>no</td>\n",
       "      <td>northwest</td>\n",
       "      <td>4906.41</td>\n",
       "      <td>2</td>\n",
       "    </tr>\n",
       "  </tbody>\n",
       "</table>\n",
       "</div>"
      ],
      "text/plain": [
       "      age     sex   bmi  children smoker     region  expenses bmi_cat\n",
       "776    40    male  32.3         2     no  northwest   6986.70       3\n",
       "1040   35  female  28.0         0    yes  northwest  20234.85       2\n",
       "270    18    male  29.4         1     no  southeast   1719.44       2\n",
       "992    50  female  31.6         2     no  southwest  10118.42       3\n",
       "431    29  female  20.2         2     no  northwest   4906.41       2"
      ]
     },
     "execution_count": 22,
     "metadata": {},
     "output_type": "execute_result"
    }
   ],
   "source": [
    "train_df.head()"
   ]
  },
  {
   "cell_type": "code",
   "execution_count": 24,
   "metadata": {},
   "outputs": [
    {
     "data": {
      "text/plain": [
       "(268, 8)"
      ]
     },
     "execution_count": 24,
     "metadata": {},
     "output_type": "execute_result"
    }
   ],
   "source": [
    "test_df=insurance_df.iloc[test_ix]\n",
    "test_df.shape"
   ]
  },
  {
   "cell_type": "code",
   "execution_count": 18,
   "metadata": {},
   "outputs": [
    {
     "data": {
      "text/html": [
       "<div>\n",
       "<style scoped>\n",
       "    .dataframe tbody tr th:only-of-type {\n",
       "        vertical-align: middle;\n",
       "    }\n",
       "\n",
       "    .dataframe tbody tr th {\n",
       "        vertical-align: top;\n",
       "    }\n",
       "\n",
       "    .dataframe thead th {\n",
       "        text-align: right;\n",
       "    }\n",
       "</style>\n",
       "<table border=\"1\" class=\"dataframe\">\n",
       "  <thead>\n",
       "    <tr style=\"text-align: right;\">\n",
       "      <th></th>\n",
       "      <th>age</th>\n",
       "      <th>sex</th>\n",
       "      <th>bmi</th>\n",
       "      <th>children</th>\n",
       "      <th>smoker</th>\n",
       "      <th>region</th>\n",
       "      <th>expenses</th>\n",
       "      <th>bmi_cat</th>\n",
       "    </tr>\n",
       "  </thead>\n",
       "  <tbody>\n",
       "    <tr>\n",
       "      <th>88</th>\n",
       "      <td>46</td>\n",
       "      <td>female</td>\n",
       "      <td>27.7</td>\n",
       "      <td>0</td>\n",
       "      <td>no</td>\n",
       "      <td>northwest</td>\n",
       "      <td>8026.67</td>\n",
       "      <td>2</td>\n",
       "    </tr>\n",
       "    <tr>\n",
       "      <th>251</th>\n",
       "      <td>63</td>\n",
       "      <td>female</td>\n",
       "      <td>32.2</td>\n",
       "      <td>2</td>\n",
       "      <td>yes</td>\n",
       "      <td>southwest</td>\n",
       "      <td>47305.31</td>\n",
       "      <td>3</td>\n",
       "    </tr>\n",
       "    <tr>\n",
       "      <th>948</th>\n",
       "      <td>42</td>\n",
       "      <td>male</td>\n",
       "      <td>31.3</td>\n",
       "      <td>0</td>\n",
       "      <td>no</td>\n",
       "      <td>northwest</td>\n",
       "      <td>6358.78</td>\n",
       "      <td>3</td>\n",
       "    </tr>\n",
       "    <tr>\n",
       "      <th>441</th>\n",
       "      <td>33</td>\n",
       "      <td>female</td>\n",
       "      <td>33.5</td>\n",
       "      <td>0</td>\n",
       "      <td>yes</td>\n",
       "      <td>southwest</td>\n",
       "      <td>37079.37</td>\n",
       "      <td>3</td>\n",
       "    </tr>\n",
       "    <tr>\n",
       "      <th>1279</th>\n",
       "      <td>25</td>\n",
       "      <td>female</td>\n",
       "      <td>26.8</td>\n",
       "      <td>2</td>\n",
       "      <td>no</td>\n",
       "      <td>northwest</td>\n",
       "      <td>4189.11</td>\n",
       "      <td>2</td>\n",
       "    </tr>\n",
       "  </tbody>\n",
       "</table>\n",
       "</div>"
      ],
      "text/plain": [
       "      age     sex   bmi  children smoker     region  expenses bmi_cat\n",
       "88     46  female  27.7         0     no  northwest   8026.67       2\n",
       "251    63  female  32.2         2    yes  southwest  47305.31       3\n",
       "948    42    male  31.3         0     no  northwest   6358.78       3\n",
       "441    33  female  33.5         0    yes  southwest  37079.37       3\n",
       "1279   25  female  26.8         2     no  northwest   4189.11       2"
      ]
     },
     "execution_count": 18,
     "metadata": {},
     "output_type": "execute_result"
    }
   ],
   "source": [
    "test_df.head()"
   ]
  },
  {
   "cell_type": "code",
   "execution_count": 25,
   "metadata": {},
   "outputs": [
    {
     "data": {
      "image/png": "[encoded data removed]",
      "text/plain": [
       "<Figure size 432x288 with 1 Axes>"
      ]
     },
     "metadata": {},
     "output_type": "display_data"
    }
   ],
   "source": [
    "plt.pie(train_df.bmi_cat.value_counts(),\n",
    "        labels=train_df.bmi_cat.value_counts().index)\n",
    "plt.show()\n"
   ]
  },
  {
   "cell_type": "code",
   "execution_count": 26,
   "metadata": {},
   "outputs": [
    {
     "data": {
      "image/png": "[encoded data removed]",
      "text/plain": [
       "<Figure size 432x288 with 1 Axes>"
      ]
     },
     "metadata": {},
     "output_type": "display_data"
    }
   ],
   "source": [
    "plt.pie(test_df.bmi_cat.value_counts(),\n",
    "        labels=test_df.bmi_cat.value_counts().index)\n",
    "plt.show()\n"
   ]
  },
  {
   "cell_type": "code",
   "execution_count": 27,
   "metadata": {},
   "outputs": [
    {
     "data": {
      "text/plain": [
       "(Index(['age', 'sex', 'bmi', 'children', 'smoker', 'region', 'expenses',\n",
       "        'bmi_cat'],\n",
       "       dtype='object'),\n",
       " array([dtype('int64'), dtype('O'), dtype('float64'), dtype('int64'),\n",
       "        dtype('O'), dtype('O'), dtype('float64'),\n",
       "        CategoricalDtype(categories=[1, 2, 3, 4, 5], ordered=True)],\n",
       "       dtype=object))"
      ]
     },
     "execution_count": 27,
     "metadata": {},
     "output_type": "execute_result"
    }
   ],
   "source": [
    "insurance_df.dtypes.index, insurance_df.dtypes.values"
   ]
  },
  {
   "cell_type": "code",
   "execution_count": 30,
   "metadata": {},
   "outputs": [],
   "source": [
    "data_type=list(map(lambda x:str(x).replace(\"dtype('\",\"\").replace(\"')\",\"\"),insurance_df.dtypes.values))"
   ]
  },
  {
   "cell_type": "code",
   "execution_count": 31,
   "metadata": {},
   "outputs": [],
   "source": [
    "column=insurance_df.columns"
   ]
  },
  {
   "cell_type": "code",
   "execution_count": 32,
   "metadata": {},
   "outputs": [
    {
     "data": {
      "text/plain": [
       "{'age': 'int64',\n",
       " 'sex': 'object',\n",
       " 'bmi': 'float64',\n",
       " 'children': 'int64',\n",
       " 'smoker': 'object',\n",
       " 'region': 'object',\n",
       " 'expenses': 'float64',\n",
       " 'bmi_cat': 'category'}"
      ]
     },
     "execution_count": 32,
     "metadata": {},
     "output_type": "execute_result"
    }
   ],
   "source": [
    "dict(zip(column,data_type))"
   ]
  },
  {
   "cell_type": "code",
   "execution_count": null,
   "metadata": {},
   "outputs": [],
   "source": []
  }
 ],
 "metadata": {
  "kernelspec": {
   "display_name": "Python 3.7.9 64-bit",
   "language": "python",
   "name": "python3"
  },
  "language_info": {
   "codemirror_mode": {
    "name": "ipython",
    "version": 3
   },
   "file_extension": ".py",
   "mimetype": "text/x-python",
   "name": "python",
   "nbconvert_exporter": "python",
   "pygments_lexer": "ipython3",
   "version": "3.7.9"
  },
  "orig_nbformat": 4,
  "vscode": {
   "interpreter": {
    "hash": "acf5eac7da9f645041e5cfdb37c00aa6ea8ac5303486c9742c976d37a2db0c06"
   }
  }
 },
 "nbformat": 4,
 "nbformat_minor": 2
}
